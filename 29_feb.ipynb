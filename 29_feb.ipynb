{
 "cells": [
  {
   "cell_type": "code",
   "execution_count": 1,
   "id": "d062aa5f-8548-4517-b83f-403a7d37f960",
   "metadata": {},
   "outputs": [],
   "source": [
    "# Who developed python programming language?"
   ]
  },
  {
   "cell_type": "code",
   "execution_count": 2,
   "id": "79140beb-8c4f-48fe-9b45-5199e36365f3",
   "metadata": {},
   "outputs": [],
   "source": [
    "# Python was created by Guido van Rossum in the late 1980s and was first released in 1991. \n",
    "# Guido van Rossum is a Dutch programmer who designed Python with the goal of creating a language \n",
    "# that was easy to learn and read, while still being powerful and expressive. \n",
    "# Since its creation, Python has become one of the most popular programming languages in the world,\n",
    "# with applications in web development, data science, machine learning, and more."
   ]
  },
  {
   "cell_type": "code",
   "execution_count": 3,
   "id": "52772eb5-5407-4340-8cc4-cbe837b7de58",
   "metadata": {},
   "outputs": [],
   "source": [
    "# Which type of programming does python supports?"
   ]
  },
  {
   "cell_type": "code",
   "execution_count": 4,
   "id": "0c15907f-3ca7-4596-b0d7-9ad5672df0dc",
   "metadata": {},
   "outputs": [],
   "source": [
    "# Python is a high-level, general-purpose programming language that supports multiple \n",
    "# programming paradigms, including:\n",
    "\n",
    "# Procedural programming\n",
    "# Object-oriented programming\n",
    "# Functional programming\n",
    "# Aspect-oriented programming\n",
    "# Python also supports dynamic typing and automatic memory management,\n",
    "# which makes it a versatile and flexible language that can be used for a wide range of applications, \n",
    "# from scripting and automation to web development, scientific computing, and machine learning."
   ]
  },
  {
   "cell_type": "code",
   "execution_count": 5,
   "id": "8e90b23c-6c29-454d-9506-9f9302c5357f",
   "metadata": {},
   "outputs": [],
   "source": [
    "# Is python is case sensitive when dealing with identifiers?"
   ]
  },
  {
   "cell_type": "code",
   "execution_count": 6,
   "id": "e3e93f6d-39e2-453c-93d0-ca65e4c20817",
   "metadata": {},
   "outputs": [],
   "source": [
    "# Yes, Python is a case-sensitive programming language when it comes to identifiers such as variable names, \n",
    "# function names, and class names. This means that variables and functions with names that differ only\n",
    "# in case are considered to be different identifiers.\n",
    "\n",
    "# For example, the variables \"my_variable\", \"My_variable\", and \n",
    "# \"MY_VARIABLE\" are three distinct variables in Python. Similarly, the function names \n",
    "# \"my_function\", \"My_Function\", and \"MY_FUNCTION\" are three separate functions in Python.\n",
    "\n",
    "# It is important to be consistent with your naming conventions in Python to avoid confusion\n",
    "# and errors in your code."
   ]
  },
  {
   "cell_type": "code",
   "execution_count": 7,
   "id": "3f64473a-25a4-47a4-acee-fa5b2363f51d",
   "metadata": {},
   "outputs": [],
   "source": [
    "# What is correct extension of python file?"
   ]
  },
  {
   "cell_type": "code",
   "execution_count": 8,
   "id": "fbe014ff-4dd3-4ea9-b173-6ab72fa3c573",
   "metadata": {},
   "outputs": [],
   "source": [
    "# The correct extension for a Python file is \".py\".\n",
    "\n",
    "# When you save a Python program in a file, you should use the \".py\" extension at the end of the filename. \n",
    "# For example, if you have a Python program called \"my_program\", you should save it in a file called \"my_program.py\".\n",
    "\n",
    "# Using the \".py\" extension helps the operating system and other programs recognize the file as a Python script, \n",
    "# and it also helps you keep track of your files and their purposes."
   ]
  },
  {
   "cell_type": "code",
   "execution_count": 9,
   "id": "96ab1f73-5dc2-4408-adef-e04a6defa5a0",
   "metadata": {},
   "outputs": [],
   "source": [
    "# Is python code is complied or interpreted?"
   ]
  },
  {
   "cell_type": "code",
   "execution_count": 1,
   "id": "078d10f8-6db5-46fa-9326-4fc22c085d3a",
   "metadata": {},
   "outputs": [],
   "source": [
    "# Python code is interpreted, meaning that it is executed directly by the \n",
    "# Python interpreter without first being compiled into machine code.\n",
    "\n",
    "# When you run a Python program, the interpreter reads and executes the code line by line, \n",
    "# translating each statement into bytecode and executing it immediately. \n",
    "# This allows for a more dynamic and flexible programming experience, \n",
    "# as you can test and modify your code on the fly without having to go through a compilation step each time.\n",
    "\n",
    "# However, Python does use a form of compilation called \"bytecode compilation\". \n",
    "# When you run a Python script, the interpreter first compiles the code into bytecode, \n",
    "# which is a low-level, platform-independent representation of the code.\n",
    "# The bytecode is then executed by the interpreter.\n",
    "# This process can help speed up the execution of the code, as the bytecode can be cached \n",
    "# and reused if the script is run again in the future."
   ]
  },
  {
   "cell_type": "code",
   "execution_count": 2,
   "id": "90e8dced-07eb-4179-8950-2b6483756a1c",
   "metadata": {},
   "outputs": [],
   "source": [
    "# Name a few blocks of code used to define in python language?"
   ]
  },
  {
   "cell_type": "code",
   "execution_count": 3,
   "id": "b93576ee-607d-4991-ac03-ca81887496c2",
   "metadata": {},
   "outputs": [],
   "source": [
    "# In Python, there are several blocks of code used for defining functions, classes,\n",
    "# and control flow statements. Here are a few examples:"
   ]
  },
  {
   "cell_type": "code",
   "execution_count": 4,
   "id": "41f6c44d-d999-4381-a606-f1c283449884",
   "metadata": {},
   "outputs": [],
   "source": [
    "# Function Definition Block:"
   ]
  },
  {
   "cell_type": "code",
   "execution_count": 5,
   "id": "f48e164c-502a-467b-b5cc-068478cb78ff",
   "metadata": {},
   "outputs": [],
   "source": [
    "def my_function(argument1, argument2):\n",
    "    # code block\n",
    "    return result\n"
   ]
  },
  {
   "cell_type": "code",
   "execution_count": 6,
   "id": "33ba46ef-37fa-4ee7-91af-3fab3d23f8c1",
   "metadata": {},
   "outputs": [],
   "source": [
    "# State a character used to give single-line comments in python?"
   ]
  },
  {
   "cell_type": "code",
   "execution_count": 7,
   "id": "32aa633b-c0f5-49c2-ad89-f2a83ecc3fa8",
   "metadata": {},
   "outputs": [],
   "source": [
    "# In Python, the hash symbol (#) is used to indicate a single-line comment. \n",
    "# Any text that appears after the # symbol on the same line is ignored by the Python interpreter. \n",
    "# Here's an example:"
   ]
  },
  {
   "cell_type": "code",
   "execution_count": 8,
   "id": "68faf234-aae5-48ab-afd8-79576d48a2e2",
   "metadata": {},
   "outputs": [
    {
     "name": "stdout",
     "output_type": "stream",
     "text": [
      "Hello, World!\n"
     ]
    }
   ],
   "source": [
    "# This is a single-line comment in Python\n",
    "print(\"Hello, World!\")  # This is another single-line comment\n"
   ]
  },
  {
   "cell_type": "code",
   "execution_count": 9,
   "id": "28832904-eb2b-4e6e-94ac-a53f63ab6071",
   "metadata": {},
   "outputs": [],
   "source": [
    "# Mention functions which can help us to find the version of python that we are currently working on?"
   ]
  },
  {
   "cell_type": "code",
   "execution_count": 12,
   "id": "a541ad10-8910-416e-a3f8-f94c860f0083",
   "metadata": {},
   "outputs": [],
   "source": [
    "# In Python, you can use the following functions to find the version of Python that you are currently working on:\n",
    "# Running Python in the command-line: If you are running Python in the command-line or terminal,\n",
    "# you can use the following command to display the version of Python:\n",
    "\n",
    "# python --version"
   ]
  },
  {
   "cell_type": "code",
   "execution_count": 13,
   "id": "584ec53e-ce5a-4e4b-9f3c-baad30bc9944",
   "metadata": {},
   "outputs": [],
   "source": [
    "# Python supports the creation of anonymous functions at runtime, using a construct called\n",
    "# _________?"
   ]
  },
  {
   "cell_type": "code",
   "execution_count": 14,
   "id": "0efcf833-44ea-47cd-b146-3843e56bca17",
   "metadata": {},
   "outputs": [],
   "source": [
    "# Python supports the creation of anonymous functions at runtime, using a construct called \"lambda\" functions.\n",
    "\n",
    "# A lambda function is a small, anonymous function that can have any number of arguments, \n",
    "# but can only have one expression. Lambda functions are defined using the lambda keyword, \n",
    "# followed by the arguments and the expression. "
   ]
  },
  {
   "cell_type": "code",
   "execution_count": 15,
   "id": "9d163de9-71c8-4dda-874b-8f2361a83382",
   "metadata": {},
   "outputs": [],
   "source": [
    "# What does pip stand for python?"
   ]
  },
  {
   "cell_type": "code",
   "execution_count": 16,
   "id": "7c8b0c86-7d5f-4c07-8d57-4f212e6b35f2",
   "metadata": {},
   "outputs": [],
   "source": [
    "# PIP stands for \"Pip Installs Packages\" or \"Pip Installs Python\".\n",
    "\n",
    "# PIP is the default package installer for Python and is used to install and manage software packages\n",
    "# written in Python. It is a command-line tool that makes it easy to install, upgrade, \n",
    "# and remove Python packages and their dependencies.\n",
    "\n",
    "# PIP allows you to install packages from the Python Package Index (PyPI), \n",
    "# as well as from other sources, such as version control repositories, local files, \n",
    "# or even directly from a URL. PIP also allows you to manage multiple Python environments \n",
    "# on the same machine, each with their own set of packages installed.\n",
    "\n",
    "# To use PIP, you need to have Python installed on your system, \n",
    "# and PIP should be included by default in most recent Python installations. \n",
    "# To check if PIP is installed on your system, you can open a terminal or command prompt\n",
    "# and type pip --version. If PIP is installed, it will display the version number."
   ]
  },
  {
   "cell_type": "code",
   "execution_count": 17,
   "id": "bb02dbab-15db-42e0-9982-4ba904983d84",
   "metadata": {},
   "outputs": [],
   "source": [
    "# Mention a few built-in functions in pytohon?"
   ]
  },
  {
   "cell_type": "code",
   "execution_count": 18,
   "id": "941403b3-0d80-4d71-98dd-d3850c764959",
   "metadata": {},
   "outputs": [],
   "source": [
    "# There are some built-in functions in python like "
   ]
  },
  {
   "cell_type": "code",
   "execution_count": 19,
   "id": "b211d9b6-edb0-4564-9a03-249824fc866f",
   "metadata": {},
   "outputs": [],
   "source": [
    "s = 'string'"
   ]
  },
  {
   "cell_type": "code",
   "execution_count": 20,
   "id": "9b288a5c-4301-473f-a1ae-7df01f2b34ff",
   "metadata": {},
   "outputs": [
    {
     "data": {
      "text/plain": [
       "'STRING'"
      ]
     },
     "execution_count": 20,
     "metadata": {},
     "output_type": "execute_result"
    }
   ],
   "source": [
    "s.upper()"
   ]
  },
  {
   "cell_type": "code",
   "execution_count": 21,
   "id": "e06c463d-6ce3-4270-a76a-bd5a37fb4ed8",
   "metadata": {},
   "outputs": [
    {
     "data": {
      "text/plain": [
       "'string'"
      ]
     },
     "execution_count": 21,
     "metadata": {},
     "output_type": "execute_result"
    }
   ],
   "source": [
    "s.lower()"
   ]
  },
  {
   "cell_type": "code",
   "execution_count": 22,
   "id": "a2cf1e2a-4d3c-4ccb-9a6e-4ea6d2370a63",
   "metadata": {},
   "outputs": [
    {
     "data": {
      "text/plain": [
       "6"
      ]
     },
     "execution_count": 22,
     "metadata": {},
     "output_type": "execute_result"
    }
   ],
   "source": [
    "len(s)"
   ]
  },
  {
   "cell_type": "code",
   "execution_count": 23,
   "id": "c6be1d49-6c34-4a62-8455-2ec067429c26",
   "metadata": {},
   "outputs": [
    {
     "data": {
      "text/plain": [
       "'s'"
      ]
     },
     "execution_count": 23,
     "metadata": {},
     "output_type": "execute_result"
    }
   ],
   "source": [
    "s[0]"
   ]
  },
  {
   "cell_type": "code",
   "execution_count": 24,
   "id": "3f118585-8312-48c9-8dcc-e2d237b39c21",
   "metadata": {},
   "outputs": [
    {
     "data": {
      "text/plain": [
       "range(0, 100)"
      ]
     },
     "execution_count": 24,
     "metadata": {},
     "output_type": "execute_result"
    }
   ],
   "source": [
    "range(0,100)"
   ]
  },
  {
   "cell_type": "code",
   "execution_count": 28,
   "id": "84a02ce1-f729-4cbe-9cc0-7100fb098ef0",
   "metadata": {},
   "outputs": [
    {
     "data": {
      "text/plain": [
       "3"
      ]
     },
     "execution_count": 28,
     "metadata": {},
     "output_type": "execute_result"
    }
   ],
   "source": [
    "s.find(\"i\")"
   ]
  },
  {
   "cell_type": "code",
   "execution_count": 29,
   "id": "9b220c0c-0dad-4f5f-92ca-50876b3bc8aa",
   "metadata": {},
   "outputs": [],
   "source": [
    "# What is the maximum possible length of an identifier in python?"
   ]
  },
  {
   "cell_type": "code",
   "execution_count": 30,
   "id": "ffe63a89-fac7-4172-89d9-be8bc9faab06",
   "metadata": {},
   "outputs": [],
   "source": [
    "# In Python, the maximum length of an identifier (i.e., variable name, function name, etc.) is not \n",
    "# specified explicitly. However, there are practical limits to the length of an \n",
    "# identifier due to the limitations of the underlying system, such as the maximum length\n",
    "# of a string on the operating system.\n",
    "\n",
    "# In general, it is recommended to keep identifier names concise and descriptive, but not excessively long."
   ]
  },
  {
   "cell_type": "code",
   "execution_count": 31,
   "id": "c20b3d91-f823-453f-8a53-61e06ba420c0",
   "metadata": {},
   "outputs": [],
   "source": [
    "# what are the benefits of using python?"
   ]
  },
  {
   "cell_type": "code",
   "execution_count": 32,
   "id": "127365f4-e9b6-4d3b-a2a9-9ae0b432e97c",
   "metadata": {},
   "outputs": [],
   "source": [
    "# Python is a popular programming language that offers several benefits, including:\n",
    "\n",
    "# Easy to Learn: Python has a simple and easy-to-learn syntax that makes it an excellent language for beginners. \n",
    "# It has a clean and consistent syntax that is similar to the English language, making it easy to read\n",
    "# and understand.\n",
    "\n",
    "# Large Community and Resources: Python has a large and active community of developers who contribute to \n",
    "# its development and support. There are also many online resources, tutorials,\n",
    "# and libraries available that can help you learn and use Python effectively.\n",
    "\n",
    "# Versatile and Cross-Platform: Python can be used for a wide range of applications,\n",
    "# including web development, data analysis, scientific computing, machine learning, \n",
    "# artificial intelligence, and more. It can also run on various operating systems,\n",
    "# including Windows, Linux, and macOS.\n",
    "\n",
    "# Productivity and Efficiency: Python's high-level language features and built-in libraries make \n",
    "# it easy to write code quickly and efficiently, reducing development time and costs.\n",
    "\n",
    "# Interpreted Language: Python is an interpreted language, which means that code \n",
    "# can be run immediately after it is written without the need for compilation. \n",
    "# This can save time and make the development process more iterative."
   ]
  },
  {
   "cell_type": "code",
   "execution_count": 34,
   "id": "9789dacc-124b-4e34-b610-274452053211",
   "metadata": {},
   "outputs": [],
   "source": [
    "# How is memory managed in python?"
   ]
  },
  {
   "cell_type": "code",
   "execution_count": 35,
   "id": "a60b96ce-65cf-48de-bd9d-489a96b3a53e",
   "metadata": {},
   "outputs": [],
   "source": [
    "# Memory management in Python is handled automatically by the Python interpreter through a technique called \n",
    "# reference counting. When an object is created in Python, the interpreter allocates memory for it and assigns \n",
    "# it a unique reference count, which is the number of references to that object in the code.\n",
    "\n",
    "# As the code runs, the interpreter automatically tracks the reference counts of all objects in memory.\n",
    "# When an object's reference count drops to zero, it is no longer being used and the interpreter \n",
    "# deallocates its memory."
   ]
  },
  {
   "cell_type": "code",
   "execution_count": 36,
   "id": "77cb2bf1-b197-4bc3-a670-4f638dda023b",
   "metadata": {},
   "outputs": [],
   "source": [
    "# How to install python on windows and set path variables?"
   ]
  },
  {
   "cell_type": "code",
   "execution_count": 37,
   "id": "946659a1-415d-44a6-9fac-eb3b705f4117",
   "metadata": {},
   "outputs": [],
   "source": [
    "# To install Python on Windows and set the path variables, you can follow these steps:\n",
    "\n",
    "# Download the latest Python installer for Windows from the official Python website \n",
    "# (https://www.python.org/downloads/windows/). Choose the version that matches your system architecture\n",
    "# (32-bit or 64-bit) and the version of Python you want to install.\n",
    "\n",
    "# Run the Python installer and follow the on-screen instructions to install Python on your system. \n",
    "# Make sure to select the option to add Python to the PATH environment variable during the installation process.\n",
    "\n",
    "# Once the installation is complete, open the command prompt by pressing the \"Windows key + R\" and \n",
    "# typing \"cmd\" in the Run dialog box.\n",
    "\n",
    "# To check if Python is installed and accessible from the command prompt, type \"python --version\" and \n",
    "# press Enter. You should see the version number of the installed Python version.\n",
    "\n",
    "# To set the path variables for Python, go to the Control Panel and search for \"Environment Variables\".\n",
    "\n",
    "# Click on \"Edit the system environment variables\" and click on the \"Environment Variables\" button.\n",
    "\n",
    "# Under the \"System Variables\" section, scroll down and find the \"Path\" variable, and click on \"Edit\".\n",
    "\n",
    "# Add the path to the Python installation directory to the list of paths, for example:\n",
    "#     \"C:\\Python39\". Make sure to separate the paths with a semicolon (;).\n",
    "\n",
    "# Click \"OK\" to close all the windows and save the changes.\n",
    "\n",
    "# Open a new command prompt window and type \"python\" to start the Python interpreter. \n",
    "# You should see the Python prompt, indicating that Python is now installed and configured correctly on your system.\n",
    "\n",
    "# That's it! You can now start using Python on your Windows machine."
   ]
  },
  {
   "cell_type": "code",
   "execution_count": 38,
   "id": "c83d282f-09c9-46d4-b6b5-a73f980d5627",
   "metadata": {},
   "outputs": [],
   "source": [
    "# Is indentation required in python?"
   ]
  },
  {
   "cell_type": "code",
   "execution_count": null,
   "id": "c9df7834-227d-4fe8-9c55-d1605019d1b7",
   "metadata": {},
   "outputs": [],
   "source": [
    "# Yes, indentation is required in Python. Unlike many other programming languages that\n",
    "# use braces to delimit blocks of code, Python uses whitespace indentation, typically four \n",
    "# spaces per level, to group statements and \n",
    "# define the structure of the program."
   ]
  }
 ],
 "metadata": {
  "kernelspec": {
   "display_name": "Python 3 (ipykernel)",
   "language": "python",
   "name": "python3"
  },
  "language_info": {
   "codemirror_mode": {
    "name": "ipython",
    "version": 3
   },
   "file_extension": ".py",
   "mimetype": "text/x-python",
   "name": "python",
   "nbconvert_exporter": "python",
   "pygments_lexer": "ipython3",
   "version": "3.10.8"
  }
 },
 "nbformat": 4,
 "nbformat_minor": 5
}
